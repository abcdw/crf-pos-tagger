{
 "cells": [
  {
   "cell_type": "code",
   "execution_count": 24,
   "metadata": {
    "collapsed": true,
    "deletable": true,
    "editable": true
   },
   "outputs": [],
   "source": [
    "%matplotlib inline\n",
    "import matplotlib.pyplot as plt\n",
    "plt.style.use('ggplot')"
   ]
  },
  {
   "cell_type": "code",
   "execution_count": 25,
   "metadata": {
    "collapsed": false,
    "deletable": true,
    "editable": true
   },
   "outputs": [],
   "source": [
    "import nltk\n",
    "import sklearn\n",
    "import sklearn_crfsuite"
   ]
  },
  {
   "cell_type": "code",
   "execution_count": 31,
   "metadata": {
    "collapsed": false,
    "deletable": true,
    "editable": true
   },
   "outputs": [],
   "source": [
    "def parse_file(filename):\n",
    "    f = open(filename, 'r')\n",
    "    raw = f.readlines()\n",
    "    sentences = []\n",
    "    s = []\n",
    "    for line in raw:\n",
    "        if line.strip():\n",
    "            tag, token = line.strip().split('\\t')\n",
    "            s.append((token, tag))\n",
    "        else:\n",
    "            sentences.append(s)\n",
    "            s = []\n",
    "    return sentences"
   ]
  },
  {
   "cell_type": "code",
   "execution_count": 92,
   "metadata": {
    "collapsed": false,
    "deletable": true,
    "editable": true
   },
   "outputs": [],
   "source": [
    "train_sents = parse_file(\"pos_train.conll\")\n",
    "test_sents = parse_file(\"pos_test.conll\")"
   ]
  },
  {
   "cell_type": "code",
   "execution_count": 120,
   "metadata": {
    "collapsed": false,
    "deletable": true,
    "editable": true
   },
   "outputs": [
    {
     "name": "stdout",
     "output_type": "stream",
     "text": [
      "perc:  0.8537020517395183\n",
      "CPU times: user 9.13 s, sys: 4 ms, total: 9.13 s\n",
      "Wall time: 9.15 s\n"
     ]
    }
   ],
   "source": [
    "%%time\n",
    "\n",
    "import re\n",
    "def is_url(s):\n",
    "    # https://gist.github.com/gruber/249502#gistcomment-6465\n",
    "    if re.match(r'(?i)\\b((?:[a-z][\\w-]+:(?:/{1,3}|[a-z0-9%])|www\\d{0,3}[.]|[a-z0-9.\\-]+[.][a-z]{2,4}/)(?:[^\\s()<>]+|\\(([^\\s()<>]+|(\\([^\\s()<>]+\\)))*\\))+(?:\\(([^\\s()<>]+|(\\([^\\s()<>]+\\)))*\\)|[^\\s`!()\\[\\]{};:\\'\".,<>?«»“”‘’]))', s):\n",
    "        return True\n",
    "    else: \n",
    "        return False\n",
    "\n",
    "    \n",
    "def is_number(s):\n",
    "    try:\n",
    "        float(s)\n",
    "        return True\n",
    "    except ValueError:\n",
    "        return False\n",
    "\n",
    "    \n",
    "def word2features(sent, i):\n",
    "    word = sent[i][0]\n",
    "    postag = sent[i][1]\n",
    "    \n",
    "    features = {\n",
    "        'word[-4:]': word.lower()[-4:],\n",
    "        'mention': word.startswith('@') and len(word) > 1,\n",
    "        'hashtag': word.startswith('#') and len(word) > 1,\n",
    "        'url': is_url(word),\n",
    "        'word.lower()': word.lower(),\n",
    "        'number': is_number(word),\n",
    "        'word[-3:]': word.lower()[-3:],\n",
    "        'word[-2:]': word.lower()[-2:],\n",
    "        'word[-1:]': word.lower()[-1:],\n",
    "        'word.istitle()': word.istitle(),\n",
    "        'word.isupper()': word.isupper(),      \n",
    "    }\n",
    "                \n",
    "    return features\n",
    "\n",
    "\n",
    "def get_features(sent):\n",
    "    return [word2features(sent, i) for i in range(len(sent))]\n",
    "\n",
    "def get_tags(sent):\n",
    "    return [tag for token, tag in sent]\n",
    "\n",
    "def get_tokens(sent):\n",
    "    return [token for token, tag in sent]\n",
    "\n",
    "\n",
    "X_train = [get_features(s) for s in train_sents]\n",
    "y_train = [get_tags(s) for s in train_sents]\n",
    "\n",
    "X_test = [get_features(s) for s in test_sents]\n",
    "y_test = [get_tags(s) for s in test_sents]\n",
    "\n",
    "\n",
    "crf = sklearn_crfsuite.CRF(\n",
    "    algorithm='lbfgs', \n",
    "    c1=0.1,\n",
    "    c2=0.1,\n",
    ")\n",
    "crf.fit(X_train, y_train)\n",
    "\n",
    "y_pred = crf.predict(X_test)\n",
    "same = 0\n",
    "sum = 0\n",
    "for st, sp in zip(y_test, y_pred):\n",
    "    for tt, tp in zip(st, sp):\n",
    "        if tt == tp:\n",
    "            same += 1\n",
    "        sum += 1\n",
    "print(\"perc: \", same/sum)"
   ]
  },
  {
   "cell_type": "code",
   "execution_count": null,
   "metadata": {
    "collapsed": true,
    "deletable": true,
    "editable": true
   },
   "outputs": [],
   "source": []
  }
 ],
 "metadata": {
  "kernelspec": {
   "display_name": "Python 3",
   "language": "python",
   "name": "python3"
  },
  "language_info": {
   "codemirror_mode": {
    "name": "ipython",
    "version": 3
   },
   "file_extension": ".py",
   "mimetype": "text/x-python",
   "name": "python",
   "nbconvert_exporter": "python",
   "pygments_lexer": "ipython3",
   "version": "3.5.3"
  }
 },
 "nbformat": 4,
 "nbformat_minor": 2
}
